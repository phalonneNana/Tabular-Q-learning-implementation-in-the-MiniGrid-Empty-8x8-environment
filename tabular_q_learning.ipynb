{
 "cells": [
  {
   "cell_type": "markdown",
   "id": "f165eaf0",
   "metadata": {},
   "source": [
    "# \\begin{aligned}  \\textbf{ Tabular Q-learning implementation in the MiniGrid-Empty-8x8 environment } \n",
    "\\end{aligned} "
   ]
  },
  {
   "cell_type": "code",
   "execution_count": null,
   "id": "e94d16c9",
   "metadata": {},
   "outputs": [],
   "source": []
  },
  {
   "cell_type": "markdown",
   "id": "0748a275",
   "metadata": {},
   "source": [
    "## Import necessary library"
   ]
  },
  {
   "cell_type": "code",
   "execution_count": 1,
   "id": "ad6cf091",
   "metadata": {},
   "outputs": [
    {
     "name": "stdout",
     "output_type": "stream",
     "text": [
      "pygame 2.5.0 (SDL 2.28.0, Python 3.10.12)\n",
      "Hello from the pygame community. https://www.pygame.org/contribute.html\n"
     ]
    }
   ],
   "source": [
    "import gymnasium as gym\n",
    "import minigrid\n",
    "import numpy as np\n",
    "import pandas as pd\n",
    "import matplotlib.pyplot as plt\n",
    "import random\n",
    "from torch.utils.tensorboard import SummaryWriter"
   ]
  },
  {
   "cell_type": "code",
   "execution_count": null,
   "id": "9b833afc",
   "metadata": {},
   "outputs": [],
   "source": []
  },
  {
   "cell_type": "markdown",
   "id": "76a39636",
   "metadata": {},
   "source": [
    "# 1) Warmup Task\n",
    "\n",
    "Write a Python script that has an agent that generates random actions every step"
   ]
  },
  {
   "cell_type": "code",
   "execution_count": 2,
   "id": "374323c3",
   "metadata": {},
   "outputs": [
    {
     "name": "stdout",
     "output_type": "stream",
     "text": [
      "Step 1: Agent performs action 'right'\n",
      "Step 2: Agent performs action 'left'\n",
      "Step 3: Agent performs action 'up'\n",
      "Step 4: Agent performs action 'down'\n",
      "Step 5: Agent performs action 'up'\n",
      "Step 6: Agent performs action 'up'\n",
      "Step 7: Agent performs action 'right'\n",
      "Step 8: Agent performs action 'down'\n",
      "Step 9: Agent performs action 'right'\n",
      "Step 10: Agent performs action 'right'\n"
     ]
    }
   ],
   "source": [
    "class Agent:\n",
    "    def __init__(self, action_space):\n",
    "        self.action_space = action_space\n",
    "\n",
    "    def get_action(self):\n",
    "        return random.choice(self.action_space)\n",
    "\n",
    "# Define the action space\n",
    "actions = ['up', 'down', 'left', 'right']\n",
    "\n",
    "# Create an instance of the agent\n",
    "agent = Agent(actions)\n",
    "\n",
    "# Define the number of steps\n",
    "num_steps = 10\n",
    "\n",
    "# Run the simulation for 10 steps\n",
    "for step in range(num_steps):\n",
    "    action = agent.get_action()\n",
    "    print(f\"Step {step + 1}: Agent performs action '{action}'\")    "
   ]
  },
  {
   "cell_type": "markdown",
   "id": "103004b6",
   "metadata": {},
   "source": [
    "In this script, the Agent class represents the agent that performs actions. The get_action method randomly selects an action from the provided action space. After choosing our four actions 'up', 'down', 'left'and 'right', we then created an instance of Agent with 10 actions and call the get_action method to generate a random action at each step."
   ]
  },
  {
   "cell_type": "code",
   "execution_count": null,
   "id": "ccb366e8",
   "metadata": {},
   "outputs": [],
   "source": []
  },
  {
   "cell_type": "markdown",
   "id": "be911e4a",
   "metadata": {},
   "source": []
  },
  {
   "cell_type": "markdown",
   "id": "71f7c53a",
   "metadata": {},
   "source": [
    "# 2) Task 1 - Tabular Q-learning\n",
    "\n",
    "To implement the tabular Q-learning agent and train a policy, we can follow these steps:"
   ]
  },
  {
   "cell_type": "markdown",
   "id": "7f25b43d",
   "metadata": {},
   "source": [
    "### Make the gym environment"
   ]
  },
  {
   "cell_type": "code",
   "execution_count": 3,
   "id": "e0ffba59",
   "metadata": {},
   "outputs": [],
   "source": [
    "# Make the gym environment\n",
    "env = gym.make('MiniGrid-Empty-8x8-v0')\n",
    "\n",
    "# reset the environment\n",
    "obs, info = env.reset()"
   ]
  },
  {
   "cell_type": "markdown",
   "id": "d7d793a7",
   "metadata": {},
   "source": [
    "We first create a Gym environment using the MiniGrid-Empty-8x8-v0 environment specification. Then, we reset the environment and returns the initial observation and information about the environment's state. This allows us to start interacting with the environment and perform actions based on the observations received."
   ]
  },
  {
   "cell_type": "code",
   "execution_count": null,
   "id": "7a3a5db6",
   "metadata": {},
   "outputs": [],
   "source": []
  },
  {
   "cell_type": "markdown",
   "id": "c0e41a2e",
   "metadata": {},
   "source": [
    "### Generate a unique key for each state\n",
    "\n",
    "Let's use a hash function to generate a unique key for each state of the agent. We will use the Python hash() function to generate the keys."
   ]
  },
  {
   "cell_type": "code",
   "execution_count": 4,
   "id": "2741ba93",
   "metadata": {},
   "outputs": [],
   "source": [
    "def hash_state(state):\n",
    "    return hash(str(state))"
   ]
  },
  {
   "cell_type": "markdown",
   "id": "1518a275",
   "metadata": {},
   "source": [
    "The 'hash_state' function takes a state as input and converts it into a hash value using the 'hash()' function in Python. It achieves this by converting the state to a string using str(state) and then applying the 'hash()' function to generate a unique hash value. The advantage of using this function is that it provides a unique identifier for each state, allowing you to store and retrieve information related to specific states efficiently. "
   ]
  },
  {
   "cell_type": "code",
   "execution_count": null,
   "id": "c06f421a",
   "metadata": {},
   "outputs": [],
   "source": []
  },
  {
   "cell_type": "markdown",
   "id": "c804558f",
   "metadata": {},
   "source": [
    "### Implement the epsilon-greedy exploration strategy. \n",
    "\n",
    "At each step, we select an action based on the epsilon-greedy policy. With a probability of epsilon, we choose a random action. Otherwise, we choose the action with the highest Q-value for the current state."
   ]
  },
  {
   "cell_type": "code",
   "execution_count": 5,
   "id": "75cb51dc",
   "metadata": {},
   "outputs": [],
   "source": [
    "def epsilon_greedy(state, epsilon):\n",
    "    num_actions=3\n",
    "    if random.uniform(0, 1) < epsilon:\n",
    "        return random.randint(0, num_actions - 1)\n",
    "    else:\n",
    "        state_hash = hash_state(state)\n",
    "        if state_hash not in Q:\n",
    "            Q[state_hash] = np.zeros(num_actions)\n",
    "        return np.argmax(Q[state_hash])"
   ]
  },
  {
   "cell_type": "markdown",
   "id": "d42f7ec1",
   "metadata": {},
   "source": [
    "the function chooses a random action with probability epsilon to explore different possibilities, and chooses the action with the highest Q-value with probability (1 - epsilon) to exploit the learned knowledge and make optimal decisions."
   ]
  },
  {
   "cell_type": "code",
   "execution_count": null,
   "id": "0ce1e004",
   "metadata": {},
   "outputs": [],
   "source": []
  },
  {
   "cell_type": "markdown",
   "id": "789d1fc9",
   "metadata": {},
   "source": [
    "### Perform Q-learning for a maximum of 3000 episodes"
   ]
  },
  {
   "cell_type": "code",
   "execution_count": 6,
   "id": "4839db18",
   "metadata": {
    "scrolled": true
   },
   "outputs": [],
   "source": [
    "# Initialize the Q-table\n",
    "Q = {}\n",
    "num_actions=3\n",
    "num_training_episodes=3000\n",
    "def train_q_learning( alpha, gamma, epsilon_max, epsilon_min, epsilon_decay):\n",
    "\n",
    "    # Tensorboard writer\n",
    "    writer = SummaryWriter()\n",
    "\n",
    "    steps_done = 0\n",
    "\n",
    "    # Training loop\n",
    "    rewards = []\n",
    "    epsilon = epsilon_max\n",
    "\n",
    "    #print('Start training...')\n",
    "\n",
    "    for episode in range(num_training_episodes):\n",
    "        state = env.reset()\n",
    "        total_reward = 0\n",
    "\n",
    "        for step in range(env.max_steps):\n",
    "            action = epsilon_greedy(state, epsilon)\n",
    "\n",
    "            steps_done += 1\n",
    "\n",
    "            next_state, reward, done, truncated, info = env.step(action)\n",
    "\n",
    "            state_hash = hash_state(state)\n",
    "            next_state_hash = hash_state(next_state)\n",
    "\n",
    "            if state_hash not in Q:\n",
    "                Q[state_hash] = np.zeros(num_actions)\n",
    "\n",
    "            if next_state_hash not in Q:\n",
    "                Q[next_state_hash] = np.zeros(num_actions)\n",
    "\n",
    "            # Q-learning update rule\n",
    "            Q[state_hash][action] += alpha * (reward + gamma * np.max(Q[next_state_hash]) - Q[state_hash][action])\n",
    "            total_reward += reward\n",
    "\n",
    "            if done:\n",
    "                # If agent reached its goal successfully\n",
    "                #print('Finished episode successfully taking %d steps and receiving reward %f' % (step, reward))\n",
    "                break\n",
    "            elif truncated:\n",
    "                # Agent failed to reach its goal successfully\n",
    "                #print('Truncated episode taking %d steps and receiving reward %f' % (step, reward))\n",
    "                break\n",
    "\n",
    "            state = next_state\n",
    "\n",
    "        rewards.append(total_reward)\n",
    "\n",
    "        epsilon *= epsilon_decay\n",
    "        epsilon = max(epsilon, epsilon_min)\n",
    "        writer.add_scalar(\"Reward/train\", reward, steps_done)\n",
    "\n",
    "    #print('Training completed.')\n",
    "    writer.flush()\n",
    "    writer.close()\n",
    "\n",
    "    return rewards,Q\n"
   ]
  },
  {
   "cell_type": "markdown",
   "id": "4244bbc4",
   "metadata": {},
   "source": [
    "The 'train_q_learning' function takes hyperparameters as inputs and trains an agent using the Q-learning algorithm. The agent interacts with the environment for 3000 episodes, selecting actions based on an epsilon-greedy strategy. Q-values are updated using the Q-learning rule, considering rewards and the maximum Q-value of the next state. The process continues until reaching a terminal state. Rewards are logged using Tensorboard, and a list of rewards is returned for evaluation. The function facilitates hyperparameter tuning and allows assessing the agent's performance in the given environment."
   ]
  },
  {
   "cell_type": "markdown",
   "id": "1fbfcaa5",
   "metadata": {},
   "source": [
    "### Evaluate the performance of the trained policy"
   ]
  },
  {
   "cell_type": "code",
   "execution_count": 7,
   "id": "ec28724f",
   "metadata": {},
   "outputs": [],
   "source": [
    "num_evaluation_episodes=1000\n",
    "def evaluate_q_learning():\n",
    "    num_successes = 0\n",
    "    total_steps = 0\n",
    "    total_reward = 0\n",
    "\n",
    "    for episode in range(num_evaluation_episodes):\n",
    "        state = env.reset()\n",
    "        episode_reward = 0\n",
    "        done = False\n",
    "        num_steps = 0\n",
    "\n",
    "        while not done:\n",
    "        # Select an action based on Q-values\n",
    "            action = np.argmax(Q[hash_state(state)])\n",
    "\n",
    "            next_state, reward, done, _, _ = env.step(action)\n",
    "\n",
    "            episode_reward += reward\n",
    "            num_steps += 1\n",
    "            state = next_state\n",
    "\n",
    "        total_reward += episode_reward\n",
    "        total_steps += num_steps\n",
    "\n",
    "        if episode_reward > 0:\n",
    "            num_successes += 1\n",
    "            \n",
    "    average_reward = total_reward / num_evaluation_episodes\n",
    "    completion_rate = num_successes / num_evaluation_episodes*100\n",
    "    average_steps = total_steps / num_evaluation_episodes\n",
    "\n",
    "    return completion_rate, average_steps, average_reward"
   ]
  },
  {
   "cell_type": "markdown",
   "id": "b70a3485",
   "metadata": {},
   "source": [
    "The 'evaluate_q_learning' function performs 1000 evaluation episodes to assess the performance of a trained Q-learning agent. It tracks the number of successful episodes, total steps taken, and cumulative reward obtained. After evaluating all episodes, it computes the success rate, average steps, and average reward. The function provides a compact summary of the agent's performance and enables comparison between different training runs or parameter configurations."
   ]
  },
  {
   "cell_type": "code",
   "execution_count": null,
   "id": "79961e9e",
   "metadata": {},
   "outputs": [],
   "source": []
  },
  {
   "cell_type": "markdown",
   "id": "042384bc",
   "metadata": {},
   "source": [
    "### Hyperparameters tunning using gridsearch"
   ]
  },
  {
   "cell_type": "code",
   "execution_count": 13,
   "id": "75a65392",
   "metadata": {},
   "outputs": [
    {
     "name": "stdout",
     "output_type": "stream",
     "text": [
      "Best Hyperparameters: {'learning_rate': 0.1, 'discount_factor': 0.85, 'exploration_rate': 0.99, 'epsilon_max': 0.99, 'epsilon_min': 0.02}\n",
      "Best Reward: 0.9613281250000155\n"
     ]
    }
   ],
   "source": [
    "best_reward = float(\"-inf\")\n",
    "best_hyperparameters = {}\n",
    "\n",
    "# Define the ranges for each hyperparameter\n",
    "learning_rate = [0.1, 0.2, 0.3]\n",
    "discount_factor = [0.85, 0.9, 0.99]\n",
    "exploration_rate = [0.9, 0.99, 0.999]\n",
    "epsilon_ma = [0.99, 0.999, 0.1]\n",
    "epsilon_mi = [0.01, 0.02, 0.02]\n",
    "\n",
    "# Perform hyperparameter tuning\n",
    "for alpha in learning_rate:\n",
    "    for gamma in discount_factor:\n",
    "        for epsilon_decay in exploration_rate:\n",
    "            for epsilon_max in epsilon_ma:\n",
    "                for epsilon_min in epsilon_mi:\n",
    "                    \n",
    "                    # Training loop\n",
    "                    rewards = train_q_learning( alpha, gamma, epsilon_max, epsilon_min, epsilon_decay)\n",
    "\n",
    "                    # Evaluate the trained policy\n",
    "                    success_rate, average_steps, average_reward = evaluate_q_learning()\n",
    "\n",
    "                    # Check if the current set of hyperparameters achieved better performance\n",
    "                    if average_reward > best_reward:\n",
    "                        best_reward = average_reward\n",
    "                        best_hyperparameters = {\n",
    "                            'learning_rate': alpha,\n",
    "                            'discount_factor': gamma,\n",
    "                            'exploration_rate': epsilon_decay,\n",
    "                            'epsilon_max': epsilon_max,\n",
    "                            'epsilon_min': epsilon_min\n",
    "                        }\n",
    "\n",
    "# Print the best hyperparameters and their corresponding performance\n",
    "print('Best Hyperparameters:', best_hyperparameters)\n",
    "print('Best Reward:', best_reward)\n"
   ]
  },
  {
   "cell_type": "markdown",
   "id": "c2e9a6df",
   "metadata": {},
   "source": [
    "The code performs hyperparameter tuning for a Q-learning agent. This process allows for the identification of the optimal hyperparameter settings for the Q-learning agent. The best hyperparameters obtained are a learning rate of 0.1, a discount factor of 0.85, an exploration rate of 0.99, an epsilon maximum value of 0.99, and an epsilon minimum value of 0.02. These hyperparameters were determined to yield the highest reward during the training process, with the best reward achieved being 0.9613281250000155. This indicates that the agent performed well and achieved a high average reward using these hyperparameters."
   ]
  },
  {
   "cell_type": "code",
   "execution_count": null,
   "id": "aa8ab190",
   "metadata": {},
   "outputs": [],
   "source": []
  },
  {
   "cell_type": "markdown",
   "id": "da565034",
   "metadata": {},
   "source": [
    "### Average reward as a function of the number of training steps: Q-learning"
   ]
  },
  {
   "cell_type": "code",
   "execution_count": 15,
   "id": "549474d5",
   "metadata": {},
   "outputs": [
    {
     "data": {
      "image/png": "[encoded data removed]",
      "text/plain": [
       "<Figure size 640x480 with 1 Axes>"
      ]
     },
     "metadata": {},
     "output_type": "display_data"
    }
   ],
   "source": [
    "# Set hyperparameters\n",
    "alpha = 0.1  # learning rate\n",
    "gamma = 0.85 # discount factor\n",
    "epsilon_max = 0.99  # maximum exploration rate\n",
    "epsilon_min = 0.02  # minimum exploration rate\n",
    "epsilon_decay = 0.99  # exploration rate decay rate\n",
    "\n",
    "\n",
    "# Call the training function\n",
    "rewards,Q_qlerarning = train_q_learning(alpha, gamma, epsilon_max, epsilon_min, epsilon_decay)\n",
    "\n",
    "\n",
    "# Plot the reward as a function of the training steps\n",
    "plt.plot(range( num_training_episodes ), rewards)\n",
    "plt.xlabel('Training Steps')\n",
    "plt.ylabel('Reward')\n",
    "plt.title('Reward vs Training Steps for Q-learning')\n",
    "plt.show()"
   ]
  },
  {
   "cell_type": "markdown",
   "id": "b42bd507",
   "metadata": {},
   "source": [
    "The plot provides insight into the agent's learning progress over time. Initially, at the beginning of training, the reward is low and fluctuating as the agent explores the environment and learns from its actions. As training progresses, the agent gradually improves its policy and decision-making, leading to an increase in the reward. "
   ]
  },
  {
   "cell_type": "markdown",
   "id": "77d6cc93",
   "metadata": {},
   "source": [
    "At any point during the training we can view the training results using a browser. We first need to start a local TensorBoard server using the following command:\n",
    "\n",
    "> tensorboard --logdir=runs\n",
    "\n",
    "We can then view the training results by pointing our browser to the url: http://localhost:6006 which should look like the following:\n",
    "\n",
    "![Tensorboard example](figures/Tensorboard_example.png)\n"
   ]
  },
  {
   "cell_type": "markdown",
   "id": "0c76b634",
   "metadata": {},
   "source": [
    "### Value-function Table (Q-Table)"
   ]
  },
  {
   "cell_type": "code",
   "execution_count": 16,
   "id": "d8deb803",
   "metadata": {},
   "outputs": [],
   "source": [
    "import pickle\n",
    "from os.path import exists\n",
    "\n",
    "filename = 'qlearning.pickle'\n",
    "\n",
    "# Saving the value-function to file\n",
    "with open(filename, 'wb') as handle:\n",
    "    pickle.dump(Q_qlerarning , handle, protocol=pickle.HIGHEST_PROTOCOL)\n",
    "    handle.close()"
   ]
  },
  {
   "cell_type": "code",
   "execution_count": 17,
   "id": "3d5fad97",
   "metadata": {},
   "outputs": [
    {
     "name": "stdout",
     "output_type": "stream",
     "text": [
      "Loading existing Q values\n"
     ]
    }
   ],
   "source": [
    "# Loading the value-function from file\n",
    "import pickle\n",
    "from os.path import exists\n",
    "filename = 'qlearning.pickle'\n",
    "if (exists(filename)):\n",
    "    print('Loading existing Q values')\n",
    "    # Load data (deserialize)\n",
    "    with open(filename, 'rb') as handle:\n",
    "        Q_qlerarning  = pickle.load(handle)\n",
    "        handle.close()\n",
    "else:\n",
    "    print('Filename %s does not exist, could not load data' % filename)       "
   ]
  },
  {
   "cell_type": "code",
   "execution_count": 18,
   "id": "897e609f",
   "metadata": {},
   "outputs": [
    {
     "data": {
      "text/plain": [
       "{-95638157969374201: array([0.11321167, 0.11278584, 0.16007171]),\n",
       " -7985266388802881123: array([0.13183432, 0.13384004, 0.18833545]),\n",
       " 140815797386113884: array([0.15494157, 0.22159618, 0.10962205]),\n",
       " -5966766918654271347: array([0.18692763, 0.18599336, 0.26073603]),\n",
       " 168227417071064375: array([0.2215263 , 0.14824097, 0.09651998]),\n",
       " -3460819865185599556: array([0.08371483, 0.13056391, 0.00021397]),\n",
       " -4396329261883780657: array([0.14548096, 0.05222788, 0.05091925]),\n",
       " -2767530540588042813: array([0.08087483, 0.15571287, 0.05305625]),\n",
       " -7915155303324242828: array([7.39613534e-06, 4.17622161e-04, 6.83369369e-04]),\n",
       " -5728459523033898945: array([1.61894950e-06, 3.56122835e-03, 1.32582537e-04]),\n",
       " -5208623862047821402: array([0.00000000e+00, 2.18453015e-07, 1.66171139e-02]),\n",
       " -5307706131114921641: array([0.00339963, 0.00057985, 0.0643393 ]),\n",
       " -6302412860264419234: array([0.0008962 , 0.02048091, 0.00121212]),\n",
       " -5449668508784564088: array([0.01166026, 0.00067856, 0.19016042]),\n",
       " 7293344618872916097: array([1.57764733e-02, 9.62530357e-05, 2.56859827e-03]),\n",
       " 2728001004688099585: array([1.36332688e-04, 1.11690666e-06, 2.32179594e-02]),\n",
       " -5325572271197287134: array([1.18365821e-05, 1.44832923e-06, 5.74790749e-05]),\n",
       " -7888647463330390857: array([6.02073780e-03, 6.89722801e-08, 2.11458536e-04]),\n",
       " 2283298156442988873: array([6.76620097e-03, 3.60047220e-05, 1.12578799e-04]),\n",
       " -7543257011980199588: array([0.00059514, 0.00050322, 0.05357874]),\n",
       " 7358786285843013004: array([2.19113962e-07, 7.86205358e-03, 3.79432418e-04]),\n",
       " 362762408797618258: array([2.57347902e-06, 1.06971270e-02, 1.96663338e-04]),\n",
       " -5307996650242710954: array([7.14622395e-06, 7.40507159e-04, 1.23407711e-02]),\n",
       " 8630317110449456472: array([1.06442379e-06, 8.05877380e-04, 4.49559349e-03]),\n",
       " 8540394750224999772: array([0.00065057, 0.00034528, 0.05974423]),\n",
       " 799699652423226821: array([7.93278980e-09, 2.99423496e-07, 3.58320350e-03]),\n",
       " 3619580038659789235: array([3.59167182e-04, 4.91113448e-03, 1.72846244e-07]),\n",
       " 191800399231883334: array([0.00137048, 0.00023849, 0.00692753]),\n",
       " 2850705654926882034: array([0.00197365, 0.01544495, 0.43098101]),\n",
       " -5665517691746871453: array([0.06505034, 0.00121519, 0.00588464]),\n",
       " 7732596409571208547: array([1.57968992e-02, 8.99951251e-06, 2.47114015e-02]),\n",
       " 505982867676184195: array([0.0164279 , 0.00395961, 0.17463191]),\n",
       " -1968881107106241934: array([0.00170951, 0.03096309, 0.19119267]),\n",
       " -965433767997792006: array([0.3566462 , 0.1212143 , 0.00048386]),\n",
       " 6923069448167944124: array([0.29882709, 0.29884235, 0.42470698]),\n",
       " -5856030633333935829: array([0.00046925, 0.00328438, 0.00025009]),\n",
       " 8506049583552872241: array([0.00112637, 0.00043385, 0.00019908]),\n",
       " -6436684784290075662: array([0.00020464, 0.00018032, 0.00585197]),\n",
       " -415285184614372953: array([6.71543524e-05, 5.35891216e-04, 4.04285351e-02]),\n",
       " -749733492572201429: array([0.00177004, 0.00065096, 0.0564614 ]),\n",
       " -4362724209973633077: array([0.00178986, 0.00424509, 0.00034901]),\n",
       " -1182307956604261657: array([0.01263548, 0.00037418, 0.00166546]),\n",
       " 5384537949072873370: array([2.57574852e-04, 9.93276569e-05, 1.27361741e-02]),\n",
       " -5555053575799662954: array([4.48391104e-05, 4.90732942e-04, 1.11650961e-03]),\n",
       " -8723908365412176544: array([0.00010717, 0.00038194, 0.04110167]),\n",
       " -5091735274443359917: array([4.49344336e-03, 2.77846909e-04, 3.37577581e-05]),\n",
       " 4103198098015952087: array([0.00013097, 0.00122024, 0.02113582]),\n",
       " 2564465177919097770: array([0.05965543, 0.00082728, 0.01196105]),\n",
       " -6373394682935816471: array([0.00056718, 0.00941903, 0.20266975]),\n",
       " 3365578498947500337: array([0.00065844, 0.03454451, 0.00037794]),\n",
       " 6684562106119636981: array([0.01080849, 0.00194792, 0.0042812 ]),\n",
       " -4547350327355344804: array([0.00489446, 0.09598393, 0.02036253]),\n",
       " -8874604594506724623: array([0.00705169, 0.02811327, 0.00082375]),\n",
       " 8774658901501530482: array([0.00477522, 0.04795588, 0.09974888]),\n",
       " -558117855420811395: array([0.00887087, 0.03876321, 0.02230742]),\n",
       " -2260514325651984683: array([0.01309892, 0.07515518, 0.02994746]),\n",
       " 7664133595328521672: array([0.02522703, 0.02709764, 0.10723598]),\n",
       " 173429052632756023: array([0.0600997 , 0.00662465, 0.03170479]),\n",
       " -8546552515390145075: array([0.02996968, 0.01192445, 0.1575102 ]),\n",
       " 5535185179499365870: array([0.09842734, 0.15797495, 0.12451727]),\n",
       " 8891888728824373496: array([0.12189586, 0.13016543, 0.0794249 ]),\n",
       " 8068773745060012524: array([0.11033005, 0.1145779 , 0.08997343]),\n",
       " 2517752688579163161: array([0.09580846, 0.13449606, 0.11385877]),\n",
       " 1923636511872434061: array([0.11033358, 0.10660883, 0.1598786 ]),\n",
       " 3022110103601574297: array([0.13428253, 0.07809833, 0.01523117]),\n",
       " -2451534786469895707: array([0.01671483, 0.04200398, 0.00175457]),\n",
       " 2047789151066488188: array([0.01723662, 0.01568848, 0.19963422]),\n",
       " 8921571833787513563: array([0.06680042, 0.30340354, 0.00462531]),\n",
       " -1486318524709326882: array([0.17164402, 0.10940626, 0.06631159]),\n",
       " -9055103331742987687: array([0.07690596, 0.19806937, 0.13656864]),\n",
       " 8532701094903582493: array([0.25755422, 0.10845598, 0.01209397]),\n",
       " -4292053335415076878: array([0.18575138, 0.16188957, 0.14479121]),\n",
       " 3334136000786564386: array([0.15911221, 0.08937782, 0.01911291]),\n",
       " -1593421313154521208: array([0.07454301, 0.00436785, 0.00479013]),\n",
       " 7529380943991799550: array([0.06185672, 0.00339009, 0.00046693]),\n",
       " -5225146844581848523: array([0.00057458, 0.00335008, 0.1104413 ]),\n",
       " 1653330873301871725: array([0.03499637, 0.00015893, 0.00014001]),\n",
       " -1430848884333378888: array([0.2480907 , 0.03388779, 0.06036615]),\n",
       " -6193204980121403522: array([0.04188551, 0.0760831 , 0.37755644]),\n",
       " -343995716024609657: array([0.01217589, 0.14204303, 0.00025227]),\n",
       " -4420613946011120554: array([0.10781882, 0.0428223 , 0.02367649]),\n",
       " -7615169538024379006: array([0.10651949, 0.19260398, 0.53062202]),\n",
       " -2104886465022032837: array([0.4823676 , 0.49677967, 0.69172659]),\n",
       " -4024395037984683988: array([0.57861702, 0.58116287, 0.81379198]),\n",
       " 4182968992549546246: array([0.68025924, 0.67136895, 0.95729119]),\n",
       " 6586065960502089278: array([0.80642392, 0.30015736, 0.54834575]),\n",
       " 3671730523530263385: array([0.20026455, 0.81014812, 0.00956826]),\n",
       " 1276699430496867342: array([0., 0., 0.]),\n",
       " 926071712641215314: array([2.15223209e-05, 1.30038782e-02, 1.55601775e-05]),\n",
       " -5498479883523476289: array([3.02672045e-03, 6.05843164e-04, 2.44671742e-05]),\n",
       " -4838416791744187430: array([0.40809306, 0.0555903 , 0.1530387 ]),\n",
       " 913042444174603983: array([0.58791182, 0.40717498, 0.49316568]),\n",
       " -6644428443219668228: array([0.49220765, 0.37607864, 0.1070068 ]),\n",
       " 7795382533410248339: array([0.33517617, 0.58118474, 0.16729357]),\n",
       " -8557072900748763502: array([0.21298287, 0.32199098, 0.0759796 ]),\n",
       " 4121111407657087223: array([0.12925784, 0.41936813, 0.06234929]),\n",
       " -2509215528102219202: array([0.18527334, 0.25728921, 0.03299375]),\n",
       " 2399412088264016124: array([0.30494704, 0.06779203, 0.00752238]),\n",
       " 4031840203188998190: array([0.2527005 , 0.25555548, 0.3609705 ]),\n",
       " 4716666414030869633: array([0.09739733, 0.25809963, 0.0241431 ]),\n",
       " 5691685402813797880: array([0.08940776, 0.06701568, 0.1862672 ]),\n",
       " -4617492555089668575: array([0.21567474, 0.21495424, 0.30678957]),\n",
       " -3249372001538132225: array([0.35137036, 0.35491923, 0.49968732]),\n",
       " -6949545975391858597: array([0.23429581, 0.09717635, 0.02768719]),\n",
       " -9081016386977663621: array([0.010382  , 0.28730576, 0.00283166]),\n",
       " 8755111807096364305: array([0.01002698, 0.13529521, 0.015198  ]),\n",
       " 2941946318451610725: array([0.00370921, 0.0636947 , 0.00031126]),\n",
       " 4583879564968596941: array([0.06130603, 0.00213687, 0.03107847]),\n",
       " 6316669758498697217: array([0.05146739, 0.01635902, 0.19430317]),\n",
       " -8942597425176013564: array([0.4227013 , 0.17195936, 0.00233991]),\n",
       " 1346650651875433612: array([0.00082084, 0.08352055, 0.0093068 ]),\n",
       " -6467420119923909398: array([0.04773191, 0.00335372, 0.00212198]),\n",
       " 2893450504925967926: array([0.10801579, 0.35801699, 0.01263378]),\n",
       " -8819359303508746056: array([0.00668767, 0.16358203, 0.04481578]),\n",
       " -3859828094712952549: array([0.05788365, 0.01696414, 0.01124935]),\n",
       " 8745848125276171179: array([0.1107812 , 0.00756459, 0.1958642 ]),\n",
       " -9151222344274692530: array([0.02032113, 0.04628805, 0.43750741]),\n",
       " -1789442384375872311: array([0.68952563, 0.27067701, 0.35909553]),\n",
       " -108605450273011349: array([0.20563414, 0.68841995, 0.008966  ]),\n",
       " 726652335461872071: array([0.46577515, 0.22743842, 0.29920473]),\n",
       " 559278787096755511: array([0.00336193, 0.05562991, 0.00269374]),\n",
       " -11150693482813940: array([1.44173602e-05, 4.42173551e-03, 2.50417385e-02]),\n",
       " 2321937002697115631: array([7.13130469e-04, 1.82680508e-05, 1.03520117e-01]),\n",
       " -5445243627053024014: array([9.01124868e-05, 1.79007786e-03, 1.00610948e-06]),\n",
       " 1730821220424422670: array([2.57003547e-06, 5.25327483e-07, 5.85541001e-07]),\n",
       " -7291223325431043156: array([4.15060728e-07, 1.81763648e-05, 6.65848612e-07]),\n",
       " -1468033815633109790: array([0.00061792, 0.0541781 , 0.00262266]),\n",
       " -5386912793916120563: array([1.77833866e-04, 6.11997964e-03, 9.60233574e-05]),\n",
       " 2026362602170931897: array([0.00368539, 0.01224664, 0.19756344]),\n",
       " 6840914198909299316: array([0.00611418, 0.01983867, 0.00020548]),\n",
       " -8848489480643953468: array([0.00023052, 0.12642017, 0.01247438]),\n",
       " 1260264841144972245: array([0.01059959, 0.00595408, 0.        ]),\n",
       " -2394436094553564472: array([0.0036736 , 0.07631678, 0.22572503]),\n",
       " 2043336904927896042: array([0.024975 , 0.0025125, 0.3166927]),\n",
       " -6275612655656568941: array([1.24651822e-04, 5.94059046e-02, 2.83313474e-05]),\n",
       " -6057830334140040133: array([0.53176015, 0.28576289, 0.12311304]),\n",
       " -5694381300565262184: array([0.02986251, 0.50022575, 0.23002551]),\n",
       " 1472714679807977600: array([0.03763104, 0.16380609, 0.00080364]),\n",
       " -7865493550219258095: array([0.06485854, 0.0005626 , 0.00443782]),\n",
       " 1534658302231782851: array([0.18109002, 0.12331651, 0.77099799]),\n",
       " 5731930195944012392: array([0.24290738, 0.02974075, 0.00142596]),\n",
       " -3956826249385466833: array([0., 0., 0.]),\n",
       " 9139852992157043123: array([0.02559888, 0.0020407 , 0.01551901])}"
      ]
     },
     "execution_count": 18,
     "metadata": {},
     "output_type": "execute_result"
    }
   ],
   "source": [
    "Q_qlerarning \n"
   ]
  },
  {
   "cell_type": "markdown",
   "id": "b73a0517",
   "metadata": {},
   "source": [
    "### Performance"
   ]
  },
  {
   "cell_type": "code",
   "execution_count": 8,
   "id": "5c3e4051",
   "metadata": {},
   "outputs": [
    {
     "name": "stdout",
     "output_type": "stream",
     "text": [
      "Episode Completion Rate: 100.00%\n",
      "Average Number of Steps: 11.0\n",
      "Average Reward: 0.9613281250000155\n"
     ]
    }
   ],
   "source": [
    "# Call the training function\n",
    "completion_rate, average_steps, average_reward= evaluate_q_learning(Q_qlerarning)\n",
    "\n",
    "print('Episode Completion Rate: {:.2f}%'.format(completion_rate))\n",
    "print('Average Number of Steps:', average_steps)\n",
    "print('Average Reward:', average_reward)"
   ]
  },
  {
   "cell_type": "markdown",
   "id": "3bfea542",
   "metadata": {},
   "source": [
    "The \"Episode Completion Rate\" which is presented as a percentage, indicating the proportion of evaluation episodes in which the agent successfully completed its task. In this case, the completion rate is 100.00\\%, meaning the agent successfully reached its goal in all evaluation episodes.\n",
    "\n",
    "The \"Average Number of Steps\" represents the average number of steps taken by the agent to complete each evaluation episode. Here, the average is 11.0 steps, indicating that, on average, the agent reached its goal in 11 steps.\n",
    "\n",
    "The \"Average Reward\" represents the average reward obtained by the agent during the evaluation episodes. The value of 0.961 indicates the average reward achieved. It provides an overall measure of the agent's performance, with higher values indicating better performance."
   ]
  },
  {
   "cell_type": "code",
   "execution_count": null,
   "id": "eb056f5e",
   "metadata": {},
   "outputs": [],
   "source": []
  },
  {
   "cell_type": "code",
   "execution_count": null,
   "id": "224ef10e",
   "metadata": {},
   "outputs": [],
   "source": []
  },
  {
   "cell_type": "markdown",
   "id": "4af93def",
   "metadata": {},
   "source": [
    "# 2) Task 2 - Sarsa Algorithm\n"
   ]
  },
  {
   "cell_type": "markdown",
   "id": "f374d4f3",
   "metadata": {},
   "source": [
    "### Perform Sarsa for a maximum of 3000 episodes"
   ]
  },
  {
   "cell_type": "code",
   "execution_count": 19,
   "id": "c1d1941a",
   "metadata": {},
   "outputs": [],
   "source": [
    "# Initialize the Q-table\n",
    "Q = {}\n",
    "num_actions=3   \n",
    "num_training_episodes=3000\n",
    "    \n",
    "def train_sarsa(alpha, gamma, epsilon_max, epsilon_min, epsilon_decay):\n",
    "\n",
    "    # Tensorboard writer\n",
    "    writer = SummaryWriter()\n",
    "\n",
    "    steps_done = 0\n",
    "\n",
    "    # Training loop\n",
    "    rewards1 = []\n",
    "    epsilon = epsilon_max\n",
    "\n",
    "    #print('Start training...')\n",
    "\n",
    "    for episode in range(num_training_episodes):\n",
    "        state = env.reset()\n",
    "        total_reward1 = 0\n",
    "        action = epsilon_greedy(state, epsilon)\n",
    "\n",
    "        for step in range(env.max_steps):\n",
    "            next_state, reward_, done, truncated, info = env.step(action)\n",
    "            next_action = epsilon_greedy(next_state, epsilon)\n",
    "\n",
    "            steps_done += 1\n",
    "\n",
    "            state_hash = hash_state(state)\n",
    "            next_state_hash = hash_state(next_state)\n",
    "\n",
    "            if state_hash not in Q:\n",
    "                Q[state_hash] = np.zeros(num_actions)\n",
    "\n",
    "            if next_state_hash not in Q:\n",
    "                Q[next_state_hash] = np.zeros(num_actions)\n",
    "\n",
    "            # SARSA update rule\n",
    "            Q[state_hash][action] += alpha * (reward_ + gamma * Q[next_state_hash][next_action] - Q[state_hash][action])\n",
    "            total_reward1 += reward_\n",
    "\n",
    "            if done:\n",
    "                # If agent reached its goal successfully\n",
    "                #print('Finished episode successfully taking %d steps and receiving reward %f' % (step, reward_))\n",
    "                break\n",
    "            elif truncated:\n",
    "                # Agent failed to reach its goal successfully\n",
    "                #print('Truncated episode taking %d steps and receiving reward %f' % (step, reward_))\n",
    "                break\n",
    "\n",
    "            state = next_state\n",
    "            action = next_action\n",
    "\n",
    "        rewards1.append(total_reward1)\n",
    "\n",
    "        epsilon *= epsilon_decay\n",
    "        epsilon = max(epsilon, epsilon_min)\n",
    "        writer.add_scalar(\"Reward/train\", reward_, steps_done)\n",
    "\n",
    "    #print('Training completed.')\n",
    "    writer.flush()\n",
    "    writer.close()\n",
    "\n",
    "    return rewards1, Q"
   ]
  },
  {
   "cell_type": "markdown",
   "id": "279df484",
   "metadata": {},
   "source": [
    "### Average reward as a function of the number of training steps: sarsa"
   ]
  },
  {
   "cell_type": "code",
   "execution_count": 24,
   "id": "423072a3",
   "metadata": {},
   "outputs": [
    {
     "data": {
      "image/png": "[encoded data removed]",
      "text/plain": [
       "<Figure size 640x480 with 1 Axes>"
      ]
     },
     "metadata": {},
     "output_type": "display_data"
    }
   ],
   "source": [
    "# Set hyperparameters\n",
    "alpha = 0.1  # learning rate\n",
    "gamma = 0.85 # discount factor\n",
    "epsilon_max = 0.99  # maximum exploration rate\n",
    "epsilon_min = 0.02  # minimum exploration rate\n",
    "epsilon_decay = 0.99  # exploration rate decay rate\n",
    "\n",
    "\n",
    "# Call the training function\n",
    "rewards1, Q_sarsa = train_sarsa(alpha, gamma, epsilon_max, epsilon_min, epsilon_decay)\n",
    "\n",
    "# Plot the reward as a function of the training steps\n",
    "plt.plot(range( num_training_episodes ), rewards1)\n",
    "plt.xlabel('Training Steps')\n",
    "plt.ylabel('Reward')\n",
    "plt.title('Reward vs Training Steps for SARSA')\n",
    "plt.show()"
   ]
  },
  {
   "cell_type": "markdown",
   "id": "4072d1d8",
   "metadata": {},
   "source": [
    "The plot provides insight into the agent's learning progress over time. Initially, at the beginning of training, the reward is low and fluctuating as the agent explores the environment and learns from its actions. As training progresses, the agent gradually improves its policy and decision-making, leading to an increase in the reward."
   ]
  },
  {
   "cell_type": "markdown",
   "id": "5d60a45d",
   "metadata": {},
   "source": [
    "### Value-function Table (Q-Table) for SARSA"
   ]
  },
  {
   "cell_type": "code",
   "execution_count": 25,
   "id": "52f27320",
   "metadata": {},
   "outputs": [],
   "source": [
    "import pickle\n",
    "from os.path import exists\n",
    "\n",
    "filename = 'qtablesarsa.pickle'\n",
    "\n",
    "# Saving the value-function to file\n",
    "with open(filename, 'wb') as handle:\n",
    "    pickle.dump(Q_sarsa, handle, protocol=pickle.HIGHEST_PROTOCOL)\n",
    "    handle.close()"
   ]
  },
  {
   "cell_type": "code",
   "execution_count": 26,
   "id": "27a611a9",
   "metadata": {},
   "outputs": [
    {
     "name": "stdout",
     "output_type": "stream",
     "text": [
      "Loading existing Q values\n"
     ]
    }
   ],
   "source": [
    "# Loading the value-function from file\n",
    "import pickle\n",
    "from os.path import exists\n",
    "\n",
    "filename = 'qtablesarsa.pickle'\n",
    "if (exists(filename)):\n",
    "    print('Loading existing Q values')\n",
    "    # Load data (deserialize)\n",
    "    with open(filename, 'rb') as handle:\n",
    "        Q_sarsa = pickle.load(handle)\n",
    "        handle.close()\n",
    "else:\n",
    "    print('Filename %s does not exist, could not load data' % filename)  "
   ]
  },
  {
   "cell_type": "code",
   "execution_count": 27,
   "id": "26c898a5",
   "metadata": {},
   "outputs": [
    {
     "data": {
      "text/plain": [
       "{-95638157969374201: array([0.06513343, 0.06802126, 0.14622703]),\n",
       " 3022110103601574297: array([0.11017727, 0.0145914 , 0.00132701]),\n",
       " -2451534786469895707: array([3.10461940e-04, 4.55544994e-03, 4.72877698e-06]),\n",
       " 173429052632756023: array([0.00296019, 0.0001535 , 0.00076029]),\n",
       " -8546552515390145075: array([5.69803063e-04, 3.76753042e-05, 2.34040283e-02]),\n",
       " 4716666414030869633: array([0.0112545 , 0.00037854, 0.09354266]),\n",
       " -9055103331742987687: array([0.00130309, 0.01900549, 0.03905278]),\n",
       " -4292053335415076878: array([0.02542967, 0.16286577, 0.04436749]),\n",
       " 168227417071064375: array([0.03030936, 0.04574468, 0.01890456]),\n",
       " -5966766918654271347: array([0.14497812, 0.02138022, 0.01217216]),\n",
       " 140815797386113884: array([0.10824619, 0.07961243, 0.21612381]),\n",
       " 8891888728824373496: array([0.02050465, 0.02434563, 0.01382255]),\n",
       " 3334136000786564386: array([0.13882767, 0.015421  , 0.00079654]),\n",
       " 8068773745060012524: array([0.02494144, 0.01664383, 0.01339644]),\n",
       " 2517752688579163161: array([0.01516739, 0.10734339, 0.01796525]),\n",
       " 1923636511872434061: array([0.02361985, 0.02134177, 0.1489346 ]),\n",
       " -7985266388802881123: array([0.09236181, 0.09465653, 0.17579306]),\n",
       " -3460819865185599556: array([0.12272947, 0.25576113, 0.04139422]),\n",
       " -2767530540588042813: array([0.17969911, 0.15596591, 0.30240561]),\n",
       " -4396329261883780657: array([0.0600472 , 0.18824119, 0.04267722]),\n",
       " 5691685402813797880: array([0.22914429, 0.04635682, 0.02664497]),\n",
       " -4617492555089668575: array([4.19606433e-02, 2.73938999e-04, 1.26011731e-06]),\n",
       " 4031840203188998190: array([1.81708493e-03, 1.35008359e-07, 7.52778474e-07]),\n",
       " 8921571833787513563: array([1.57331295e-04, 1.12682158e-06, 2.09743111e-02]),\n",
       " -1486318524709326882: array([2.63444806e-05, 1.89928901e-03, 1.40953719e-02]),\n",
       " 8532701094903582493: array([0.00316019, 0.01249533, 0.00014524]),\n",
       " 2941946318451610725: array([0.02966838, 0.25895132, 0.01989881]),\n",
       " 8755111807096364305: array([0.16250206, 0.20083871, 0.35612028]),\n",
       " 6316669758498697217: array([0.27794971, 0.01872915, 0.00320561]),\n",
       " 4583879564968596941: array([0.07037126, 0.04850277, 0.02696883]),\n",
       " 799699652423226821: array([0.00145891, 0.04472764, 0.00077082]),\n",
       " -7888647463330390857: array([0.01091154, 0.01359764, 0.00064995]),\n",
       " 8540394750224999772: array([0.01000993, 0.0018608 , 0.0637241 ]),\n",
       " -558117855420811395: array([6.76149789e-05, 3.58640411e-04, 2.60808281e-03]),\n",
       " -2260514325651984683: array([0.00050911, 0.01173899, 0.00215939]),\n",
       " -1182307956604261657: array([2.63315966e-06, 7.73908113e-05, 4.09009864e-08]),\n",
       " 5384537949072873370: array([1.02158249e-06, 2.67782567e-10, 5.23840734e-08]),\n",
       " 8506049583552872241: array([1.12189250e-09, 4.15108637e-08, 6.03706027e-10]),\n",
       " -5555053575799662954: array([1.13367020e-09, 4.19087455e-14, 8.52654886e-06]),\n",
       " -6436684784290075662: array([0.00000000e+00, 2.89696111e-07, 2.46651146e-04]),\n",
       " -415285184614372953: array([3.37050024e-05, 4.50006389e-06, 4.71382375e-03]),\n",
       " 7664133595328521672: array([8.16430543e-04, 5.55137460e-05, 2.67506057e-02]),\n",
       " 5535185179499365870: array([0.01570167, 0.13661397, 0.03953089]),\n",
       " -749733492572201429: array([1.92967968e-04, 1.90134728e-08, 1.27440840e-08]),\n",
       " 2047789151066488188: array([3.09381594e-05, 0.00000000e+00, 3.54486241e-06]),\n",
       " -4547350327355344804: array([7.77995152e-13, 4.64503165e-12, 3.27070447e-04]),\n",
       " 2399412088264016124: array([1.32838425e-08, 4.64806735e-03, 2.26492206e-07]),\n",
       " -8874604594506724623: array([6.16529342e-08, 0.00000000e+00, 1.79666217e-05]),\n",
       " 7529380943991799550: array([4.94093035e-07, 4.30596987e-07, 3.97633356e-06]),\n",
       " -5091735274443359917: array([8.12410742e-07, 1.54447017e-07, 1.73040204e-04]),\n",
       " -5856030633333935829: array([1.07220975e-05, 1.21951002e-11, 3.62598262e-10]),\n",
       " 4103198098015952087: array([1.51947838e-11, 3.21234409e-06, 1.15409575e-10]),\n",
       " 6840914198909299316: array([0.0353392 , 0.34272401, 0.02610006]),\n",
       " 1346650651875433612: array([0.2669557 , 0.2207543 , 0.41383544]),\n",
       " -7865493550219258095: array([0.07274625, 0.11870119, 0.01298459]),\n",
       " -1968881107106241934: array([0.2097757 , 0.24878122, 0.4645867 ]),\n",
       " 505982867676184195: array([3.72495798e-01, 2.91258322e-02, 6.29199314e-07]),\n",
       " -9151222344274692530: array([0.28465992, 0.3349281 , 0.58525713]),\n",
       " 8745848125276171179: array([4.64053234e-01, 4.90181667e-02, 2.24620867e-04]),\n",
       " -3859828094712952549: array([0.18850891, 0.00171828, 0.01309925]),\n",
       " -8819359303508746056: array([0.05291617, 0.43429426, 0.03984296]),\n",
       " -1789442384375872311: array([0.66621393, 0.40090139, 0.56670487]),\n",
       " -4024395037984683988: array([0.49293538, 0.52593628, 0.8131593 ]),\n",
       " -108605450273011349: array([0.09760034, 0.62549791, 0.04657127]),\n",
       " 726652335461872071: array([0.5559583 , 0.16096317, 0.00237645]),\n",
       " -6644428443219668228: array([0.01888348, 0.00603712, 0.00013739]),\n",
       " -6949545975391858597: array([2.76317218e-03, 2.05233813e-06, 3.23528247e-05]),\n",
       " -9081016386977663621: array([1.25830068e-05, 7.66277963e-03, 7.25103020e-08]),\n",
       " -7615169538024379006: array([0.00020584, 0.00138808, 0.15330829]),\n",
       " -4420613946011120554: array([3.19469491e-05, 3.35181607e-04, 1.75440993e-05]),\n",
       " -1430848884333378888: array([2.06074447e-03, 1.05884960e-05, 2.77005585e-05]),\n",
       " -6193204980121403522: array([1.60354063e-04, 6.16175497e-05, 3.60944490e-02]),\n",
       " -2104886465022032837: array([3.94757725e-05, 5.94064781e-03, 3.87500203e-01]),\n",
       " -6467420119923909398: array([0.04373309, 0.11271684, 0.03919386]),\n",
       " 559278787096755511: array([0.02843048, 0.14853573, 0.31640961]),\n",
       " -11150693482813940: array([0.00823456, 0.10262377, 0.45684754]),\n",
       " -5445243627053024014: array([0.00531449, 0.08001263, 0.00081441]),\n",
       " 7732596409571208547: array([0.11223031, 0.00954012, 0.02504704]),\n",
       " -965433767997792006: array([2.79309399e-04, 0.00000000e+00, 1.15670940e-07]),\n",
       " -8723908365412176544: array([1.01109567e-17, 2.63974706e-08, 2.28652357e-05]),\n",
       " 8774658901501530482: array([0.000128  , 0.00038187, 0.00929802]),\n",
       " 2283298156442988873: array([0.01732034, 0.00396118, 0.00315362]),\n",
       " -7543257011980199588: array([0.02415526, 0.00063018, 0.05358082]),\n",
       " 7358786285843013004: array([0.00987361, 0.01400904, 0.1047064 ]),\n",
       " -7915155303324242828: array([0.00341256, 0.06737512, 0.00017259]),\n",
       " 362762408797618258: array([0.02092306, 0.01908993, 0.15752483]),\n",
       " -5307996650242710954: array([0.00858798, 0.01292231, 0.24427868]),\n",
       " 2728001004688099585: array([0.01575263, 0.00015732, 0.06626886]),\n",
       " 8630317110449456472: array([0.00064614, 0.08301546, 0.00337937]),\n",
       " -1468033815633109790: array([0.0002286 , 0.02950245, 0.00138241]),\n",
       " -5386912793916120563: array([4.79601449e-03, 4.28179353e-06, 5.22677141e-05]),\n",
       " 7293344618872916097: array([0.02837075, 0.00037179, 0.00185075]),\n",
       " -5325572271197287134: array([0.0060832 , 0.01074563, 0.00154184]),\n",
       " -6302412860264419234: array([2.94940696e-05, 2.94423063e-03, 2.72020064e-04]),\n",
       " 3619580038659789235: array([7.19789499e-04, 5.72194819e-05, 8.27888503e-04]),\n",
       " -5307706131114921641: array([0.00059464, 0.00019185, 0.04466125]),\n",
       " -7291223325431043156: array([5.32334179e-03, 1.01495780e-04, 8.59673639e-05]),\n",
       " 1730821220424422670: array([0.00027615, 0.00021259, 0.02232317]),\n",
       " -5449668508784564088: array([0.00173236, 0.00262616, 0.18306118]),\n",
       " 2850705654926882034: array([0.13592576, 0.04095004, 0.79087406]),\n",
       " 1534658302231782851: array([0.24013276, 0.19155007, 0.95230758]),\n",
       " -5694381300565262184: array([0.02502572, 0.55851503, 0.09956836]),\n",
       " 5731930195944012392: array([0.43458107, 0.00812049, 0.00782345]),\n",
       " -3956826249385466833: array([0., 0., 0.]),\n",
       " -1593421313154521208: array([5.01822151e-03, 4.37816395e-04, 6.69437811e-08]),\n",
       " 2026362602170931897: array([0.32239829, 0.03304355, 0.00116821]),\n",
       " 2321937002697115631: array([0.06167368, 0.02953616, 0.40278254]),\n",
       " -8848489480643953468: array([0.05102854, 0.62275373, 0.19309535]),\n",
       " 9139852992157043123: array([0.16027   , 0.0037165 , 0.05326905]),\n",
       " -6275612655656568941: array([0.00894399, 0.05199749, 0.00760882]),\n",
       " -4362724209973633077: array([7.95045737e-07, 7.63790844e-04, 1.81016464e-05]),\n",
       " 2893450504925967926: array([9.90162523e-06, 6.77274308e-06, 4.58028951e-02]),\n",
       " -2509215528102219202: array([5.91469683e-09, 3.26247425e-03, 6.84111722e-04]),\n",
       " 6923069448167944124: array([5.84414893e-03, 1.04977631e-08, 7.74125054e-04]),\n",
       " -3249372001538132225: array([3.62775334e-03, 2.68585199e-06, 1.83306894e-02]),\n",
       " 913042444174603983: array([0.14813407, 0.0014437 , 0.01909701]),\n",
       " 7795382533410248339: array([1.28584242e-03, 4.64591332e-02, 4.04937826e-05]),\n",
       " -8557072900748763502: array([1.65954764e-06, 1.51811848e-04, 3.16563043e-04]),\n",
       " 4121111407657087223: array([1.02374746e-05, 2.67928172e-04, 6.94493432e-02]),\n",
       " -8942597425176013564: array([1.72645785e-03, 4.98304917e-05, 4.30134524e-07]),\n",
       " 6684562106119636981: array([8.67480063e-05, 1.88494448e-07, 6.04882034e-09]),\n",
       " 3365578498947500337: array([6.09756075e-07, 0.00000000e+00, 1.08997932e-11]),\n",
       " 1653330873301871725: array([7.10082752e-07, 1.28727895e-09, 9.86295154e-10]),\n",
       " -5498479883523476289: array([9.86159620e-10, 7.90990852e-07, 0.00000000e+00]),\n",
       " 926071712641215314: array([0.00000000e+00, 6.67388792e-07, 1.10430663e-05]),\n",
       " -5225146844581848523: array([1.11872706e-06, 2.80646564e-09, 6.05495106e-05]),\n",
       " -6373394682935816471: array([2.10308427e-09, 2.28598484e-06, 4.20528790e-05]),\n",
       " -5665517691746871453: array([1.84294591e-01, 9.99470922e-05, 5.89244782e-04]),\n",
       " 1260264841144972245: array([0.0306381 , 0.14532651, 0.00025577]),\n",
       " 1472714679807977600: array([0.03547507, 0.11129148, 0.00727211]),\n",
       " 191800399231883334: array([4.75592793e-06, 6.11704087e-05, 5.69200802e-03]),\n",
       " -5728459523033898945: array([2.09673681e-04, 1.10828980e-03, 1.99455634e-05]),\n",
       " -4838416791744187430: array([0.02710361, 0.00028771, 0.00217284]),\n",
       " -5208623862047821402: array([2.04168236e-05, 1.00503576e-03, 7.99753064e-03]),\n",
       " 2043336904927896042: array([0.04263532, 0.04070147, 0.61006549]),\n",
       " -2394436094553564472: array([0.00560331, 0.07818022, 0.26063715]),\n",
       " 2564465177919097770: array([1.97346411e-07, 4.12210429e-07, 8.49834078e-04]),\n",
       " -343995716024609657: array([6.61744017e-06, 4.00603231e-03, 1.28584389e-09]),\n",
       " 4182968992549546246: array([0.63814432, 0.61614658, 0.95513512]),\n",
       " 3671730523530263385: array([0.16410387, 0.80089409, 0.00373831]),\n",
       " -6057830334140040133: array([0.4030475 , 0.19572762, 0.13244811]),\n",
       " 6586065960502089278: array([0.8085346 , 0.16764856, 0.36710574]),\n",
       " 1276699430496867342: array([0., 0., 0.])}"
      ]
     },
     "execution_count": 27,
     "metadata": {},
     "output_type": "execute_result"
    }
   ],
   "source": [
    "Q_sarsa"
   ]
  },
  {
   "cell_type": "markdown",
   "id": "41ca461d",
   "metadata": {},
   "source": [
    "### Evaluate the performance of the trained policy for sarsa"
   ]
  },
  {
   "cell_type": "code",
   "execution_count": 14,
   "id": "2c521d4d",
   "metadata": {},
   "outputs": [],
   "source": [
    "num_evaluation_episodes=1000\n",
    "def sarsa():\n",
    "    num_successes1 = 0\n",
    "    total_steps1 = 0\n",
    "    total_reward1 = 0\n",
    "\n",
    "    for episode in range(num_evaluation_episodes):\n",
    "        state = env.reset()\n",
    "        episode_reward1 = 0\n",
    "        done = False\n",
    "        num_steps = 0\n",
    "\n",
    "        while not done:\n",
    "            action = np.argmax(Q[hash_state(state)])\n",
    "            next_state, reward_, done, truncated, info = env.step(action)\n",
    "            episode_reward1 += reward_\n",
    "            num_steps += 1\n",
    "            state = next_state\n",
    "\n",
    "            \n",
    "        total_reward1 += episode_reward1\n",
    "        total_steps1 += num_steps\n",
    "        \n",
    "        if episode_reward1 > 0:\n",
    "            num_successes1 += 1\n",
    "\n",
    "    average_reward1 = total_reward1 / num_evaluation_episodes\n",
    "    completion_rate1 = num_successes1 / num_evaluation_episodes*100\n",
    "    average_steps1 = total_steps1 / num_evaluation_episodes\n",
    "    return completion_rate1, average_steps1, average_reward1  "
   ]
  },
  {
   "cell_type": "code",
   "execution_count": 15,
   "id": "8bfa98b6",
   "metadata": {},
   "outputs": [
    {
     "name": "stdout",
     "output_type": "stream",
     "text": [
      "Episode Completion Rate: 100.00%\n",
      "Average Number of Steps: 12.0\n",
      "Average Reward: 0.9578125000000169\n"
     ]
    }
   ],
   "source": [
    "# Call the training function\n",
    "completion_rate1, average_steps1, average_reward1= sarsa()\n",
    "\n",
    "print('Episode Completion Rate: {:.2f}%'.format(completion_rate1))\n",
    "print('Average Number of Steps:', average_steps1)\n",
    "print('Average Reward:', average_reward1)"
   ]
  },
  {
   "cell_type": "markdown",
   "id": "3ab373e6",
   "metadata": {},
   "source": [
    "Based on the provided table, both the SARSA and Q-learning algorithms achieve a 100\\% completion rate, indicating that they are successful in reaching the goal in all evaluated episodes. However, there are slight differences in the average number of steps and average reward.\n",
    "\n",
    "In terms of the average number of steps, the Q-learning algorithm performs slightly better with an average of 11.0 steps, compared to SARSA which has an average of 12.0 steps. This suggests that Q-learning finds more efficient paths to reach the goal on average.\n",
    "\n",
    "Regarding the average reward, both algorithms have similar performance, with Q-learning achieving an average reward of 0.961 and SARSA achieving an average reward of 0.957. This indicates that both algorithms are able to obtain high rewards on average but Q-learning is slightly more better."
   ]
  },
  {
   "cell_type": "code",
   "execution_count": null,
   "id": "e5e663e2",
   "metadata": {},
   "outputs": [],
   "source": []
  }
 ],
 "metadata": {
  "kernelspec": {
   "display_name": "Python 3 (ipykernel)",
   "language": "python",
   "name": "python3"
  },
  "language_info": {
   "codemirror_mode": {
    "name": "ipython",
    "version": 3
   },
   "file_extension": ".py",
   "mimetype": "text/x-python",
   "name": "python",
   "nbconvert_exporter": "python",
   "pygments_lexer": "ipython3",
   "version": "3.10.12"
  }
 },
 "nbformat": 4,
 "nbformat_minor": 5
}
